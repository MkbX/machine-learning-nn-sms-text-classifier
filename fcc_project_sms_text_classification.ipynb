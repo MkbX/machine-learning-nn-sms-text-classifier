{
  "cells": [
    {
      "cell_type": "code",
      "execution_count": null,
      "metadata": {
        "id": "8RZOuS9LWQvv"
      },
      "outputs": [],
      "source": [
        "# import libraries\n",
        "try:\n",
        "  # %tensorflow_version only exists in Colab.\n",
        "  !pip install tf-nightly\n",
        "except Exception:\n",
        "  pass\n",
        "import tensorflow as tf\n",
        "import pandas as pd\n",
        "from tensorflow import keras\n",
        "!pip install tensorflow-datasets\n",
        "import tensorflow_datasets as tfds\n",
        "import numpy as np\n",
        "import matplotlib.pyplot as plt\n",
        "from tensorflow.keras.preprocessing.text import Tokenizer\n",
        "from tensorflow.keras.preprocessing.sequence import pad_sequences\n",
        "\n",
        "print(tf.__version__)"
      ]
    },
    {
      "cell_type": "code",
      "execution_count": null,
      "metadata": {
        "id": "lMHwYXHXCar3"
      },
      "outputs": [],
      "source": [
        "# get data files\n",
        "!wget https://cdn.freecodecamp.org/project-data/sms/train-data.tsv\n",
        "!wget https://cdn.freecodecamp.org/project-data/sms/valid-data.tsv\n",
        "\n",
        "train_file_path = \"train-data.tsv\"\n",
        "test_file_path = \"valid-data.tsv\""
      ]
    },
    {
      "cell_type": "code",
      "execution_count": null,
      "metadata": {
        "id": "g_h508FEClxO"
      },
      "outputs": [],
      "source": [
        "# tsv to dataframes\n",
        "\n",
        "raw_data_train = pd.read_csv('train-data.tsv', sep='\\t', header=None)\n",
        "raw_data_train = raw_data_train.rename(columns={raw_data_train.columns[0]: 'Label', raw_data_train.columns[1]: 'SMS'})\n",
        "raw_data_train['Label'] = raw_data_train['Label'].map({'ham': 0, 'spam': 1})\n",
        "label_train =  np.array(raw_data_train['Label'].tolist())\n",
        "\n",
        "raw_data_valid = pd.read_csv('valid-data.tsv', sep='\\t', header=None)\n",
        "raw_data_valid = raw_data_valid.rename(columns={raw_data_valid.columns[0]: 'Label', raw_data_valid.columns[1]: 'SMS'})\n",
        "raw_data_valid['Label'] = raw_data_valid['Label'].map({'ham': 0, 'spam': 1})\n",
        "label_valid =  np.array(raw_data_valid['Label'].tolist())\n",
        "\n",
        "#print(raw_data_valid)\n",
        "#print(raw_data_train)\n",
        "#print(label_train)\n",
        "#print(label_valid)"
      ]
    },
    {
      "cell_type": "code",
      "source": [
        "# using Tokenizer from TensorFlow \n",
        "# hyperparameters\n",
        "popular_vocabulary_size = 500\n",
        "oov_token_param = \"<OOV>\"\n",
        "max_len = 189\n",
        "\n",
        "tokenizer = Tokenizer(num_words=popular_vocabulary_size ,oov_token=oov_token_param)\n",
        "tokenizer.fit_on_texts(raw_data_train['SMS'])\n",
        "word_index = tokenizer.word_index\n",
        "# words count\n",
        "#print('Number of different words: ', len(word_index))\n",
        "\n",
        "# string to integer with padding (each element must have same length ; adding 0 before to fill in the gaps)\n",
        "sequences_train = tokenizer.texts_to_sequences(raw_data_train['SMS'])\n",
        "padded_train = pad_sequences(sequences_train, maxlen= max_len, padding='pre')\n",
        "\n",
        "sequences_valid = tokenizer.texts_to_sequences(raw_data_valid['SMS'])\n",
        "padded_valid = pad_sequences(sequences_valid, maxlen= max_len, padding='pre')"
      ],
      "metadata": {
        "id": "yYXa5gbFRrmt"
      },
      "execution_count": null,
      "outputs": []
    },
    {
      "cell_type": "code",
      "execution_count": null,
      "metadata": {
        "id": "zOMKywn4zReN",
        "colab": {
          "base_uri": "https://localhost:8080/"
        },
        "outputId": "91a85cc3-75c0-4fc3-8db4-c29c4ad57a2f"
      },
      "outputs": [
        {
          "output_type": "stream",
          "name": "stdout",
          "text": [
            "Epoch 1/20\n",
            "131/131 [==============================] - 2s 5ms/step - loss: 0.3713 - accuracy: 0.8650 - val_loss: 0.2488 - val_accuracy: 0.8700\n",
            "Epoch 2/20\n",
            "131/131 [==============================] - 1s 5ms/step - loss: 0.1730 - accuracy: 0.9435 - val_loss: 0.1341 - val_accuracy: 0.9648\n",
            "Epoch 3/20\n",
            "131/131 [==============================] - 0s 3ms/step - loss: 0.1042 - accuracy: 0.9682 - val_loss: 0.0952 - val_accuracy: 0.9741\n",
            "Epoch 4/20\n",
            "131/131 [==============================] - 0s 4ms/step - loss: 0.0769 - accuracy: 0.9768 - val_loss: 0.0784 - val_accuracy: 0.9756\n",
            "Epoch 5/20\n",
            "131/131 [==============================] - 0s 3ms/step - loss: 0.0621 - accuracy: 0.9818 - val_loss: 0.0681 - val_accuracy: 0.9741\n",
            "Epoch 6/20\n",
            "131/131 [==============================] - 1s 6ms/step - loss: 0.0528 - accuracy: 0.9837 - val_loss: 0.0612 - val_accuracy: 0.9763\n",
            "Epoch 7/20\n",
            "131/131 [==============================] - 1s 6ms/step - loss: 0.0461 - accuracy: 0.9868 - val_loss: 0.0571 - val_accuracy: 0.9777\n",
            "Epoch 8/20\n",
            "131/131 [==============================] - 1s 7ms/step - loss: 0.0414 - accuracy: 0.9878 - val_loss: 0.0539 - val_accuracy: 0.9806\n",
            "Epoch 9/20\n",
            "131/131 [==============================] - 1s 6ms/step - loss: 0.0372 - accuracy: 0.9899 - val_loss: 0.0518 - val_accuracy: 0.9820\n",
            "Epoch 10/20\n",
            "131/131 [==============================] - 1s 6ms/step - loss: 0.0339 - accuracy: 0.9902 - val_loss: 0.0508 - val_accuracy: 0.9828\n",
            "Epoch 11/20\n",
            "131/131 [==============================] - 1s 7ms/step - loss: 0.0312 - accuracy: 0.9911 - val_loss: 0.0493 - val_accuracy: 0.9828\n",
            "Epoch 12/20\n",
            "131/131 [==============================] - 1s 5ms/step - loss: 0.0287 - accuracy: 0.9921 - val_loss: 0.0487 - val_accuracy: 0.9835\n",
            "Epoch 13/20\n",
            "131/131 [==============================] - 1s 5ms/step - loss: 0.0266 - accuracy: 0.9933 - val_loss: 0.0480 - val_accuracy: 0.9835\n",
            "Epoch 14/20\n",
            "131/131 [==============================] - 1s 7ms/step - loss: 0.0247 - accuracy: 0.9928 - val_loss: 0.0483 - val_accuracy: 0.9835\n",
            "Epoch 15/20\n",
            "131/131 [==============================] - 1s 5ms/step - loss: 0.0232 - accuracy: 0.9938 - val_loss: 0.0479 - val_accuracy: 0.9835\n",
            "Epoch 16/20\n",
            "131/131 [==============================] - 1s 6ms/step - loss: 0.0207 - accuracy: 0.9945 - val_loss: 0.0486 - val_accuracy: 0.9835\n",
            "Epoch 17/20\n",
            "131/131 [==============================] - 1s 8ms/step - loss: 0.0199 - accuracy: 0.9943 - val_loss: 0.0479 - val_accuracy: 0.9842\n",
            "Epoch 18/20\n",
            "131/131 [==============================] - 1s 7ms/step - loss: 0.0183 - accuracy: 0.9947 - val_loss: 0.0487 - val_accuracy: 0.9835\n",
            "Epoch 19/20\n",
            "131/131 [==============================] - 1s 6ms/step - loss: 0.0174 - accuracy: 0.9955 - val_loss: 0.0482 - val_accuracy: 0.9835\n",
            "Epoch 20/20\n",
            "131/131 [==============================] - 1s 5ms/step - loss: 0.0156 - accuracy: 0.9957 - val_loss: 0.0489 - val_accuracy: 0.9849\n"
          ]
        }
      ],
      "source": [
        "# model\n",
        "\n",
        "model = keras.Sequential()\n",
        "model.add(tf.keras.layers.Embedding(popular_vocabulary_size, 8, input_length=max_len))\n",
        "model.add(tf.keras.layers.Flatten())\n",
        "model.add(tf.keras.layers.Dense(1, activation='sigmoid'))\n",
        "\n",
        "model.compile(optimizer='adam', loss='binary_crossentropy', metrics=['accuracy'])\n",
        "\n",
        "history = model.fit(padded_train, label_train, epochs=20, validation_data=(padded_valid, label_valid),callbacks =[keras.callbacks.EarlyStopping(monitor='val_accuracy', patience=5)])"
      ]
    },
    {
      "cell_type": "code",
      "source": [
        "# accuracy plot\n",
        "\n",
        "plt.plot(history.history['accuracy'])\n",
        "plt.plot(history.history['val_accuracy'])\n",
        "plt.ylabel('Accuracy')\n",
        "plt.xlabel('Epoch')\n",
        "plt.legend(['Training', 'Validation'])\n",
        "plt.show()"
      ],
      "metadata": {
        "id": "rdzmqyNlqAk9",
        "colab": {
          "base_uri": "https://localhost:8080/",
          "height": 280
        },
        "outputId": "59458701-202f-4c67-86db-ad1e91d74861"
      },
      "execution_count": null,
      "outputs": [
        {
          "output_type": "display_data",
          "data": {
            "text/plain": [
              "<Figure size 432x288 with 1 Axes>"
            ],
            "image/png": "[encoded data removed]"
          },
          "metadata": {
            "needs_background": "light"
          }
        }
      ]
    },
    {
      "cell_type": "code",
      "execution_count": null,
      "metadata": {
        "id": "J9tD9yACG6M9",
        "colab": {
          "base_uri": "https://localhost:8080/"
        },
        "outputId": "b68091eb-08d4-4bc1-88c2-2edb6f46e3fc"
      },
      "outputs": [
        {
          "output_type": "stream",
          "name": "stdout",
          "text": [
            "1/1 [==============================] - 0s 112ms/step\n",
            "[0.5973798036575317, 'spam']\n"
          ]
        }
      ],
      "source": [
        "# function to predict messages based on model\n",
        "# (should return list containing prediction and label, ex. [0.008318834938108921, 'ham'])\n",
        "def predict_message(pred_text):\n",
        "    temp_sequence = tokenizer.texts_to_sequences([pred_text])\n",
        "    temp_sequence = pad_sequences(temp_sequence, maxlen=max_len)\n",
        "    prediction = model.predict(temp_sequence)[0].tolist()\n",
        "    prediction_txt = 'ham' if prediction[0] < 0.2 else 'spam'\n",
        "    prediction.append(prediction_txt)\n",
        "    return (prediction)\n",
        "\n",
        "pred_text = \"sale today! to stop texts call 98912460324\"\n",
        "\n",
        "prediction = predict_message(pred_text)\n",
        "print(prediction)"
      ]
    },
    {
      "cell_type": "code",
      "execution_count": null,
      "metadata": {
        "id": "Dxotov85SjsC",
        "colab": {
          "base_uri": "https://localhost:8080/"
        },
        "outputId": "b3e58135-98a3-479f-e9b9-675b66f8fc4d"
      },
      "outputs": [
        {
          "output_type": "stream",
          "name": "stdout",
          "text": [
            "1/1 [==============================] - 0s 41ms/step\n",
            "1/1 [==============================] - 0s 65ms/step\n",
            "1/1 [==============================] - 0s 38ms/step\n",
            "1/1 [==============================] - 0s 37ms/step\n",
            "1/1 [==============================] - 0s 56ms/step\n",
            "1/1 [==============================] - 0s 45ms/step\n",
            "1/1 [==============================] - 0s 55ms/step\n",
            "You passed the challenge. Great job!\n"
          ]
        }
      ],
      "source": [
        "# Run this cell to test your function and model. Do not modify contents.\n",
        "def test_predictions():\n",
        "  test_messages = [\"how are you doing today\",\n",
        "                   \"sale today! to stop texts call 98912460324\",\n",
        "                   \"i dont want to go. can we try it a different day? available sat\",\n",
        "                   \"our new mobile video service is live. just install on your phone to start watching.\",\n",
        "                   \"you have won £1000 cash! call to claim your prize.\",\n",
        "                   \"i'll bring it tomorrow. don't forget the milk.\",\n",
        "                   \"wow, is your arm alright. that happened to me one time too\"\n",
        "                  ]\n",
        "\n",
        "  test_answers = [\"ham\", \"spam\", \"ham\", \"spam\", \"spam\", \"ham\", \"ham\"]\n",
        "  passed = True\n",
        "\n",
        "  for msg, ans in zip(test_messages, test_answers):\n",
        "    prediction = predict_message(msg)\n",
        "    if prediction[1] != ans:\n",
        "      passed = False\n",
        "\n",
        "  if passed:\n",
        "    print(\"You passed the challenge. Great job!\")\n",
        "  else:\n",
        "    print(\"You haven't passed yet. Keep trying.\")\n",
        "\n",
        "test_predictions()\n"
      ]
    }
  ],
  "metadata": {
    "colab": {
      "provenance": []
    },
    "kernelspec": {
      "display_name": "Python 3",
      "name": "python3"
    },
    "language_info": {},
    "gpuClass": "standard"
  },
  "nbformat": 4,
  "nbformat_minor": 0
}