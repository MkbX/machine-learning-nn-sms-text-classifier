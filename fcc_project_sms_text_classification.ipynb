{
  "cells": [
    {
      "cell_type": "code",
      "execution_count": 1,
      "metadata": {
        "id": "8RZOuS9LWQvv",
        "colab": {
          "base_uri": "https://localhost:8080/"
        },
        "outputId": "aaee07eb-0d21-4e63-bc66-1678b0299429"
      },
      "outputs": [
        {
          "output_type": "stream",
          "name": "stdout",
          "text": [
            "Colab only includes TensorFlow 2.x; %tensorflow_version has no effect.\n",
            "2.9.2\n"
          ]
        }
      ],
      "source": [
        "# import libraries\n",
        "#try:\n",
        "  # %tensorflow_version only exists in Colab.\n",
        "  #!pip install tf-nightly\n",
        "#except Exception:\n",
        "  #pass\n",
        "\n",
        "try:\n",
        "  # This command only in Colab.\n",
        "  %tensorflow_version 2.x\n",
        "except Exception:\n",
        "  pass\n",
        "import tensorflow as tf\n",
        "import tensorflow as tf\n",
        "import pandas as pd\n",
        "from tensorflow import keras\n",
        "#!pip install tensorflow-datasets\n",
        "#import tensorflow_datasets as tfds\n",
        "import numpy as np\n",
        "import matplotlib.pyplot as plt\n",
        "from tensorflow.keras.preprocessing.text import Tokenizer\n",
        "from tensorflow.keras.preprocessing.sequence import pad_sequences\n",
        "\n",
        "print(tf.__version__)"
      ]
    },
    {
      "cell_type": "code",
      "execution_count": 2,
      "metadata": {
        "id": "lMHwYXHXCar3",
        "colab": {
          "base_uri": "https://localhost:8080/"
        },
        "outputId": "7046aa44-a25a-4d54-b184-6dc7514291e1"
      },
      "outputs": [
        {
          "output_type": "stream",
          "name": "stdout",
          "text": [
            "--2023-01-25 11:01:18--  https://cdn.freecodecamp.org/project-data/sms/train-data.tsv\n",
            "Resolving cdn.freecodecamp.org (cdn.freecodecamp.org)... 104.26.3.33, 172.67.70.149, 104.26.2.33, ...\n",
            "Connecting to cdn.freecodecamp.org (cdn.freecodecamp.org)|104.26.3.33|:443... connected.\n",
            "HTTP request sent, awaiting response... 200 OK\n",
            "Length: 358233 (350K) [text/tab-separated-values]\n",
            "Saving to: ‘train-data.tsv’\n",
            "\n",
            "train-data.tsv      100%[===================>] 349.84K  --.-KB/s    in 0.04s   \n",
            "\n",
            "2023-01-25 11:01:19 (7.84 MB/s) - ‘train-data.tsv’ saved [358233/358233]\n",
            "\n",
            "--2023-01-25 11:01:19--  https://cdn.freecodecamp.org/project-data/sms/valid-data.tsv\n",
            "Resolving cdn.freecodecamp.org (cdn.freecodecamp.org)... 104.26.3.33, 172.67.70.149, 104.26.2.33, ...\n",
            "Connecting to cdn.freecodecamp.org (cdn.freecodecamp.org)|104.26.3.33|:443... connected.\n",
            "HTTP request sent, awaiting response... 200 OK\n",
            "Length: 118774 (116K) [text/tab-separated-values]\n",
            "Saving to: ‘valid-data.tsv’\n",
            "\n",
            "valid-data.tsv      100%[===================>] 115.99K  --.-KB/s    in 0.03s   \n",
            "\n",
            "2023-01-25 11:01:19 (4.48 MB/s) - ‘valid-data.tsv’ saved [118774/118774]\n",
            "\n"
          ]
        }
      ],
      "source": [
        "# get data files\n",
        "!wget https://cdn.freecodecamp.org/project-data/sms/train-data.tsv\n",
        "!wget https://cdn.freecodecamp.org/project-data/sms/valid-data.tsv\n",
        "\n",
        "train_file_path = \"train-data.tsv\"\n",
        "test_file_path = \"valid-data.tsv\""
      ]
    },
    {
      "cell_type": "code",
      "execution_count": 3,
      "metadata": {
        "id": "g_h508FEClxO"
      },
      "outputs": [],
      "source": [
        "# tsv to dataframes\n",
        "\n",
        "raw_data_train = pd.read_csv('train-data.tsv', sep='\\t', header=None)\n",
        "raw_data_train = raw_data_train.rename(columns={raw_data_train.columns[0]: 'Label', raw_data_train.columns[1]: 'SMS'})\n",
        "raw_data_train['Label'] = raw_data_train['Label'].map({'ham': 0, 'spam': 1})\n",
        "label_train =  np.array(raw_data_train['Label'].tolist())\n",
        "\n",
        "raw_data_valid = pd.read_csv('valid-data.tsv', sep='\\t', header=None)\n",
        "raw_data_valid = raw_data_valid.rename(columns={raw_data_valid.columns[0]: 'Label', raw_data_valid.columns[1]: 'SMS'})\n",
        "raw_data_valid['Label'] = raw_data_valid['Label'].map({'ham': 0, 'spam': 1})\n",
        "label_valid =  np.array(raw_data_valid['Label'].tolist())\n",
        "\n",
        "#print(raw_data_valid)\n",
        "#print(raw_data_train)\n",
        "#print(label_train)\n",
        "#print(label_valid)"
      ]
    },
    {
      "cell_type": "code",
      "source": [
        "# using Tokenizer from TensorFlow \n",
        "# hyperparameters\n",
        "popular_vocabulary_size = 500\n",
        "oov_token_param = \"<OOV>\"\n",
        "max_len = 189\n",
        "\n",
        "tokenizer = Tokenizer(num_words=popular_vocabulary_size ,oov_token=oov_token_param)\n",
        "tokenizer.fit_on_texts(raw_data_train['SMS'])\n",
        "word_index = tokenizer.word_index\n",
        "# words count\n",
        "#print('Number of different words: ', len(word_index))\n",
        "\n",
        "# string to integer with padding (each element must have same length ; adding 0 before to fill in the gaps)\n",
        "sequences_train = tokenizer.texts_to_sequences(raw_data_train['SMS'])\n",
        "padded_train = pad_sequences(sequences_train, maxlen= max_len, padding='pre')\n",
        "\n",
        "sequences_valid = tokenizer.texts_to_sequences(raw_data_valid['SMS'])\n",
        "padded_valid = pad_sequences(sequences_valid, maxlen= max_len, padding='pre')"
      ],
      "metadata": {
        "id": "yYXa5gbFRrmt"
      },
      "execution_count": 4,
      "outputs": []
    },
    {
      "cell_type": "code",
      "execution_count": 5,
      "metadata": {
        "id": "zOMKywn4zReN",
        "colab": {
          "base_uri": "https://localhost:8080/"
        },
        "outputId": "e233fe45-98d9-45bd-df4a-94ca865d1bcb"
      },
      "outputs": [
        {
          "output_type": "stream",
          "name": "stdout",
          "text": [
            "Epoch 1/20\n",
            "131/131 [==============================] - 5s 6ms/step - loss: 0.3718 - accuracy: 0.8610 - val_loss: 0.2526 - val_accuracy: 0.8685\n",
            "Epoch 2/20\n",
            "131/131 [==============================] - 0s 4ms/step - loss: 0.1711 - accuracy: 0.9366 - val_loss: 0.1285 - val_accuracy: 0.9670\n",
            "Epoch 3/20\n",
            "131/131 [==============================] - 0s 4ms/step - loss: 0.1018 - accuracy: 0.9694 - val_loss: 0.0940 - val_accuracy: 0.9734\n",
            "Epoch 4/20\n",
            "131/131 [==============================] - 0s 4ms/step - loss: 0.0756 - accuracy: 0.9768 - val_loss: 0.0766 - val_accuracy: 0.9749\n",
            "Epoch 5/20\n",
            "131/131 [==============================] - 0s 3ms/step - loss: 0.0609 - accuracy: 0.9818 - val_loss: 0.0670 - val_accuracy: 0.9770\n",
            "Epoch 6/20\n",
            "131/131 [==============================] - 0s 3ms/step - loss: 0.0515 - accuracy: 0.9847 - val_loss: 0.0603 - val_accuracy: 0.9770\n",
            "Epoch 7/20\n",
            "131/131 [==============================] - 0s 3ms/step - loss: 0.0455 - accuracy: 0.9871 - val_loss: 0.0568 - val_accuracy: 0.9792\n",
            "Epoch 8/20\n",
            "131/131 [==============================] - 0s 3ms/step - loss: 0.0405 - accuracy: 0.9883 - val_loss: 0.0538 - val_accuracy: 0.9828\n",
            "Epoch 9/20\n",
            "131/131 [==============================] - 0s 4ms/step - loss: 0.0370 - accuracy: 0.9888 - val_loss: 0.0511 - val_accuracy: 0.9828\n",
            "Epoch 10/20\n",
            "131/131 [==============================] - 0s 4ms/step - loss: 0.0332 - accuracy: 0.9899 - val_loss: 0.0503 - val_accuracy: 0.9828\n",
            "Epoch 11/20\n",
            "131/131 [==============================] - 0s 4ms/step - loss: 0.0303 - accuracy: 0.9909 - val_loss: 0.0490 - val_accuracy: 0.9828\n",
            "Epoch 12/20\n",
            "131/131 [==============================] - 1s 4ms/step - loss: 0.0282 - accuracy: 0.9914 - val_loss: 0.0483 - val_accuracy: 0.9835\n",
            "Epoch 13/20\n",
            "131/131 [==============================] - 0s 3ms/step - loss: 0.0261 - accuracy: 0.9931 - val_loss: 0.0478 - val_accuracy: 0.9835\n",
            "Epoch 14/20\n",
            "131/131 [==============================] - 0s 3ms/step - loss: 0.0238 - accuracy: 0.9935 - val_loss: 0.0477 - val_accuracy: 0.9835\n",
            "Epoch 15/20\n",
            "131/131 [==============================] - 0s 3ms/step - loss: 0.0221 - accuracy: 0.9943 - val_loss: 0.0485 - val_accuracy: 0.9835\n",
            "Epoch 16/20\n",
            "131/131 [==============================] - 0s 3ms/step - loss: 0.0205 - accuracy: 0.9943 - val_loss: 0.0522 - val_accuracy: 0.9864\n",
            "Epoch 17/20\n",
            "131/131 [==============================] - 0s 3ms/step - loss: 0.0191 - accuracy: 0.9947 - val_loss: 0.0480 - val_accuracy: 0.9835\n",
            "Epoch 18/20\n",
            "131/131 [==============================] - 0s 3ms/step - loss: 0.0177 - accuracy: 0.9952 - val_loss: 0.0487 - val_accuracy: 0.9828\n",
            "Epoch 19/20\n",
            "131/131 [==============================] - 0s 3ms/step - loss: 0.0168 - accuracy: 0.9959 - val_loss: 0.0486 - val_accuracy: 0.9835\n",
            "Epoch 20/20\n",
            "131/131 [==============================] - 0s 3ms/step - loss: 0.0154 - accuracy: 0.9957 - val_loss: 0.0492 - val_accuracy: 0.9842\n"
          ]
        }
      ],
      "source": [
        "# model\n",
        "\n",
        "model = keras.Sequential()\n",
        "model.add(tf.keras.layers.Embedding(popular_vocabulary_size, 8, input_length=max_len))\n",
        "model.add(tf.keras.layers.Flatten())\n",
        "model.add(tf.keras.layers.Dense(1, activation='sigmoid'))\n",
        "\n",
        "model.compile(optimizer='adam', loss='binary_crossentropy', metrics=['accuracy'])\n",
        "\n",
        "history = model.fit(padded_train, label_train, epochs=20, validation_data=(padded_valid, label_valid),callbacks =[keras.callbacks.EarlyStopping(monitor='val_accuracy', patience=5)])"
      ]
    },
    {
      "cell_type": "code",
      "source": [
        "# accuracy plot\n",
        "\n",
        "plt.plot(history.history['accuracy'])\n",
        "plt.plot(history.history['val_accuracy'])\n",
        "plt.ylabel('Accuracy')\n",
        "plt.xlabel('Epoch')\n",
        "plt.legend(['Training', 'Validation'])\n",
        "plt.show()"
      ],
      "metadata": {
        "id": "rdzmqyNlqAk9",
        "colab": {
          "base_uri": "https://localhost:8080/",
          "height": 279
        },
        "outputId": "c4ce0762-f73e-47f6-9f11-24f053740d92"
      },
      "execution_count": 6,
      "outputs": [
        {
          "output_type": "display_data",
          "data": {
            "text/plain": [
              "<Figure size 432x288 with 1 Axes>"
            ],
            "image/png": "[encoded data removed]"
          },
          "metadata": {
            "needs_background": "light"
          }
        }
      ]
    },
    {
      "cell_type": "code",
      "execution_count": 7,
      "metadata": {
        "id": "J9tD9yACG6M9",
        "colab": {
          "base_uri": "https://localhost:8080/"
        },
        "outputId": "1785de84-5f95-480e-d065-365d79d1c529"
      },
      "outputs": [
        {
          "output_type": "stream",
          "name": "stdout",
          "text": [
            "1/1 [==============================] - 0s 80ms/step\n",
            "[0.5689487457275391, 'spam']\n"
          ]
        }
      ],
      "source": [
        "# function to predict messages based on model\n",
        "# (should return list containing prediction and label, ex. [0.008318834938108921, 'ham'])\n",
        "def predict_message(pred_text):\n",
        "    temp_sequence = tokenizer.texts_to_sequences([pred_text])\n",
        "    temp_sequence = pad_sequences(temp_sequence, maxlen=max_len)\n",
        "    prediction = model.predict(temp_sequence)[0].tolist()\n",
        "    prediction_txt = 'ham' if prediction[0] < 0.2 else 'spam'\n",
        "    prediction.append(prediction_txt)\n",
        "    return (prediction)\n",
        "\n",
        "pred_text = \"sale today! to stop texts call 98912460324\"\n",
        "\n",
        "prediction = predict_message(pred_text)\n",
        "print(prediction)"
      ]
    },
    {
      "cell_type": "code",
      "execution_count": 8,
      "metadata": {
        "id": "Dxotov85SjsC",
        "colab": {
          "base_uri": "https://localhost:8080/"
        },
        "outputId": "742f32f9-0d58-44ba-a4e3-0ecb7030c53e"
      },
      "outputs": [
        {
          "output_type": "stream",
          "name": "stdout",
          "text": [
            "1/1 [==============================] - 0s 22ms/step\n",
            "1/1 [==============================] - 0s 16ms/step\n",
            "1/1 [==============================] - 0s 16ms/step\n",
            "1/1 [==============================] - 0s 16ms/step\n",
            "1/1 [==============================] - 0s 17ms/step\n",
            "1/1 [==============================] - 0s 15ms/step\n",
            "1/1 [==============================] - 0s 16ms/step\n",
            "You passed the challenge. Great job!\n"
          ]
        }
      ],
      "source": [
        "# Run this cell to test your function and model. Do not modify contents.\n",
        "def test_predictions():\n",
        "  test_messages = [\"how are you doing today\",\n",
        "                   \"sale today! to stop texts call 98912460324\",\n",
        "                   \"i dont want to go. can we try it a different day? available sat\",\n",
        "                   \"our new mobile video service is live. just install on your phone to start watching.\",\n",
        "                   \"you have won £1000 cash! call to claim your prize.\",\n",
        "                   \"i'll bring it tomorrow. don't forget the milk.\",\n",
        "                   \"wow, is your arm alright. that happened to me one time too\"\n",
        "                  ]\n",
        "\n",
        "  test_answers = [\"ham\", \"spam\", \"ham\", \"spam\", \"spam\", \"ham\", \"ham\"]\n",
        "  passed = True\n",
        "\n",
        "  for msg, ans in zip(test_messages, test_answers):\n",
        "    prediction = predict_message(msg)\n",
        "    if prediction[1] != ans:\n",
        "      passed = False\n",
        "\n",
        "  if passed:\n",
        "    print(\"You passed the challenge. Great job!\")\n",
        "  else:\n",
        "    print(\"You haven't passed yet. Keep trying.\")\n",
        "\n",
        "test_predictions()\n"
      ]
    }
  ],
  "metadata": {
    "colab": {
      "provenance": []
    },
    "kernelspec": {
      "display_name": "Python 3",
      "name": "python3"
    },
    "language_info": {},
    "gpuClass": "standard"
  },
  "nbformat": 4,
  "nbformat_minor": 0
}