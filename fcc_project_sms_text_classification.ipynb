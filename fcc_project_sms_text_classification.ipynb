{
  "cells": [
    {
      "cell_type": "code",
      "execution_count": null,
      "metadata": {
        "id": "8RZOuS9LWQvv",
        "colab": {
          "base_uri": "https://localhost:8080/"
        },
        "outputId": "b35a8d85-4223-44e8-c74a-ed51f51210cb"
      },
      "outputs": [
        {
          "output_type": "stream",
          "name": "stdout",
          "text": [
            "Looking in indexes: https://pypi.org/simple, https://us-python.pkg.dev/colab-wheels/public/simple/\n",
            "Requirement already satisfied: tensorflow-datasets in /usr/local/lib/python3.8/dist-packages (4.8.1)\n",
            "Requirement already satisfied: protobuf>=3.12.2 in /usr/local/lib/python3.8/dist-packages (from tensorflow-datasets) (3.19.6)\n",
            "Requirement already satisfied: psutil in /usr/local/lib/python3.8/dist-packages (from tensorflow-datasets) (5.4.8)\n",
            "Requirement already satisfied: click in /usr/local/lib/python3.8/dist-packages (from tensorflow-datasets) (7.1.2)\n",
            "Requirement already satisfied: dill in /usr/local/lib/python3.8/dist-packages (from tensorflow-datasets) (0.3.6)\n",
            "Requirement already satisfied: numpy in /usr/local/lib/python3.8/dist-packages (from tensorflow-datasets) (1.21.6)\n",
            "Requirement already satisfied: toml in /usr/local/lib/python3.8/dist-packages (from tensorflow-datasets) (0.10.2)\n",
            "Requirement already satisfied: promise in /usr/local/lib/python3.8/dist-packages (from tensorflow-datasets) (2.3)\n",
            "Requirement already satisfied: absl-py in /usr/local/lib/python3.8/dist-packages (from tensorflow-datasets) (1.3.0)\n",
            "Requirement already satisfied: etils[enp,epath]>=0.9.0 in /usr/local/lib/python3.8/dist-packages (from tensorflow-datasets) (1.0.0)\n",
            "Requirement already satisfied: six in /usr/local/lib/python3.8/dist-packages (from tensorflow-datasets) (1.15.0)\n",
            "Requirement already satisfied: dm-tree in /usr/local/lib/python3.8/dist-packages (from tensorflow-datasets) (0.1.8)\n",
            "Requirement already satisfied: tqdm in /usr/local/lib/python3.8/dist-packages (from tensorflow-datasets) (4.64.1)\n",
            "Requirement already satisfied: tensorflow-metadata in /usr/local/lib/python3.8/dist-packages (from tensorflow-datasets) (1.12.0)\n",
            "Requirement already satisfied: importlib-resources in /usr/local/lib/python3.8/dist-packages (from tensorflow-datasets) (5.10.2)\n",
            "Requirement already satisfied: termcolor in /usr/local/lib/python3.8/dist-packages (from tensorflow-datasets) (2.2.0)\n",
            "Requirement already satisfied: requests>=2.19.0 in /usr/local/lib/python3.8/dist-packages (from tensorflow-datasets) (2.25.1)\n",
            "Requirement already satisfied: typing_extensions in /usr/local/lib/python3.8/dist-packages (from etils[enp,epath]>=0.9.0->tensorflow-datasets) (4.4.0)\n",
            "Requirement already satisfied: zipp in /usr/local/lib/python3.8/dist-packages (from etils[enp,epath]>=0.9.0->tensorflow-datasets) (3.11.0)\n",
            "Requirement already satisfied: urllib3<1.27,>=1.21.1 in /usr/local/lib/python3.8/dist-packages (from requests>=2.19.0->tensorflow-datasets) (1.24.3)\n",
            "Requirement already satisfied: chardet<5,>=3.0.2 in /usr/local/lib/python3.8/dist-packages (from requests>=2.19.0->tensorflow-datasets) (4.0.0)\n",
            "Requirement already satisfied: idna<3,>=2.5 in /usr/local/lib/python3.8/dist-packages (from requests>=2.19.0->tensorflow-datasets) (2.10)\n",
            "Requirement already satisfied: certifi>=2017.4.17 in /usr/local/lib/python3.8/dist-packages (from requests>=2.19.0->tensorflow-datasets) (2022.12.7)\n",
            "Requirement already satisfied: googleapis-common-protos<2,>=1.52.0 in /usr/local/lib/python3.8/dist-packages (from tensorflow-metadata->tensorflow-datasets) (1.58.0)\n",
            "2.9.2\n"
          ]
        }
      ],
      "source": [
        "# import libraries\n",
        "#try:\n",
        "  # %tensorflow_version only exists in Colab.\n",
        "  #!pip install tf-nightly\n",
        "#except Exception:\n",
        "  #pass\n",
        "import tensorflow as tf\n",
        "import pandas as pd\n",
        "from tensorflow import keras\n",
        "!pip install tensorflow-datasets\n",
        "import tensorflow_datasets as tfds\n",
        "import numpy as np\n",
        "import matplotlib.pyplot as plt\n",
        "from tensorflow.keras.preprocessing.text import Tokenizer\n",
        "from tensorflow.keras.preprocessing.sequence import pad_sequences\n",
        "\n",
        "print(tf.__version__)"
      ]
    },
    {
      "cell_type": "code",
      "execution_count": null,
      "metadata": {
        "id": "lMHwYXHXCar3",
        "colab": {
          "base_uri": "https://localhost:8080/"
        },
        "outputId": "b0d32401-53fc-4b43-d116-a582a8709693"
      },
      "outputs": [
        {
          "output_type": "stream",
          "name": "stdout",
          "text": [
            "--2023-01-25 10:55:12--  https://cdn.freecodecamp.org/project-data/sms/train-data.tsv\n",
            "Resolving cdn.freecodecamp.org (cdn.freecodecamp.org)... 172.67.70.149, 104.26.3.33, 104.26.2.33, ...\n",
            "Connecting to cdn.freecodecamp.org (cdn.freecodecamp.org)|172.67.70.149|:443... connected.\n",
            "HTTP request sent, awaiting response... 200 OK\n",
            "Length: 358233 (350K) [text/tab-separated-values]\n",
            "Saving to: ‘train-data.tsv’\n",
            "\n",
            "train-data.tsv      100%[===================>] 349.84K  --.-KB/s    in 0.04s   \n",
            "\n",
            "2023-01-25 10:55:13 (8.42 MB/s) - ‘train-data.tsv’ saved [358233/358233]\n",
            "\n",
            "--2023-01-25 10:55:13--  https://cdn.freecodecamp.org/project-data/sms/valid-data.tsv\n",
            "Resolving cdn.freecodecamp.org (cdn.freecodecamp.org)... 172.67.70.149, 104.26.3.33, 104.26.2.33, ...\n",
            "Connecting to cdn.freecodecamp.org (cdn.freecodecamp.org)|172.67.70.149|:443... connected.\n",
            "HTTP request sent, awaiting response... 200 OK\n",
            "Length: 118774 (116K) [text/tab-separated-values]\n",
            "Saving to: ‘valid-data.tsv’\n",
            "\n",
            "valid-data.tsv      100%[===================>] 115.99K  --.-KB/s    in 0.02s   \n",
            "\n",
            "2023-01-25 10:55:13 (4.59 MB/s) - ‘valid-data.tsv’ saved [118774/118774]\n",
            "\n"
          ]
        }
      ],
      "source": [
        "# get data files\n",
        "!wget https://cdn.freecodecamp.org/project-data/sms/train-data.tsv\n",
        "!wget https://cdn.freecodecamp.org/project-data/sms/valid-data.tsv\n",
        "\n",
        "train_file_path = \"train-data.tsv\"\n",
        "test_file_path = \"valid-data.tsv\""
      ]
    },
    {
      "cell_type": "code",
      "execution_count": null,
      "metadata": {
        "id": "g_h508FEClxO"
      },
      "outputs": [],
      "source": [
        "# tsv to dataframes\n",
        "\n",
        "raw_data_train = pd.read_csv('train-data.tsv', sep='\\t', header=None)\n",
        "raw_data_train = raw_data_train.rename(columns={raw_data_train.columns[0]: 'Label', raw_data_train.columns[1]: 'SMS'})\n",
        "raw_data_train['Label'] = raw_data_train['Label'].map({'ham': 0, 'spam': 1})\n",
        "label_train =  np.array(raw_data_train['Label'].tolist())\n",
        "\n",
        "raw_data_valid = pd.read_csv('valid-data.tsv', sep='\\t', header=None)\n",
        "raw_data_valid = raw_data_valid.rename(columns={raw_data_valid.columns[0]: 'Label', raw_data_valid.columns[1]: 'SMS'})\n",
        "raw_data_valid['Label'] = raw_data_valid['Label'].map({'ham': 0, 'spam': 1})\n",
        "label_valid =  np.array(raw_data_valid['Label'].tolist())\n",
        "\n",
        "#print(raw_data_valid)\n",
        "#print(raw_data_train)\n",
        "#print(label_train)\n",
        "#print(label_valid)"
      ]
    },
    {
      "cell_type": "code",
      "source": [
        "# using Tokenizer from TensorFlow \n",
        "# hyperparameters\n",
        "popular_vocabulary_size = 500\n",
        "oov_token_param = \"<OOV>\"\n",
        "max_len = 189\n",
        "\n",
        "tokenizer = Tokenizer(num_words=popular_vocabulary_size ,oov_token=oov_token_param)\n",
        "tokenizer.fit_on_texts(raw_data_train['SMS'])\n",
        "word_index = tokenizer.word_index\n",
        "# words count\n",
        "#print('Number of different words: ', len(word_index))\n",
        "\n",
        "# string to integer with padding (each element must have same length ; adding 0 before to fill in the gaps)\n",
        "sequences_train = tokenizer.texts_to_sequences(raw_data_train['SMS'])\n",
        "padded_train = pad_sequences(sequences_train, maxlen= max_len, padding='pre')\n",
        "\n",
        "sequences_valid = tokenizer.texts_to_sequences(raw_data_valid['SMS'])\n",
        "padded_valid = pad_sequences(sequences_valid, maxlen= max_len, padding='pre')"
      ],
      "metadata": {
        "id": "yYXa5gbFRrmt"
      },
      "execution_count": null,
      "outputs": []
    },
    {
      "cell_type": "code",
      "execution_count": null,
      "metadata": {
        "id": "zOMKywn4zReN",
        "colab": {
          "base_uri": "https://localhost:8080/"
        },
        "outputId": "8c1167af-f06e-4f05-f65d-fde122b7e435"
      },
      "outputs": [
        {
          "output_type": "stream",
          "name": "stdout",
          "text": [
            "Epoch 1/20\n",
            "131/131 [==============================] - 2s 7ms/step - loss: 0.3789 - accuracy: 0.8586 - val_loss: 0.2593 - val_accuracy: 0.8707\n",
            "Epoch 2/20\n",
            "131/131 [==============================] - 0s 4ms/step - loss: 0.1787 - accuracy: 0.9366 - val_loss: 0.1339 - val_accuracy: 0.9619\n",
            "Epoch 3/20\n",
            "131/131 [==============================] - 0s 3ms/step - loss: 0.1074 - accuracy: 0.9687 - val_loss: 0.0967 - val_accuracy: 0.9727\n",
            "Epoch 4/20\n",
            "131/131 [==============================] - 0s 3ms/step - loss: 0.0781 - accuracy: 0.9763 - val_loss: 0.0799 - val_accuracy: 0.9763\n",
            "Epoch 5/20\n",
            "131/131 [==============================] - 0s 3ms/step - loss: 0.0623 - accuracy: 0.9816 - val_loss: 0.0710 - val_accuracy: 0.9749\n",
            "Epoch 6/20\n",
            "131/131 [==============================] - 1s 4ms/step - loss: 0.0533 - accuracy: 0.9849 - val_loss: 0.0614 - val_accuracy: 0.9777\n",
            "Epoch 7/20\n",
            "131/131 [==============================] - 0s 3ms/step - loss: 0.0464 - accuracy: 0.9868 - val_loss: 0.0588 - val_accuracy: 0.9792\n",
            "Epoch 8/20\n",
            "131/131 [==============================] - 0s 3ms/step - loss: 0.0411 - accuracy: 0.9868 - val_loss: 0.0544 - val_accuracy: 0.9813\n",
            "Epoch 9/20\n",
            "131/131 [==============================] - 0s 3ms/step - loss: 0.0375 - accuracy: 0.9888 - val_loss: 0.0520 - val_accuracy: 0.9828\n",
            "Epoch 10/20\n",
            "131/131 [==============================] - 0s 3ms/step - loss: 0.0340 - accuracy: 0.9907 - val_loss: 0.0505 - val_accuracy: 0.9828\n",
            "Epoch 11/20\n",
            "131/131 [==============================] - 0s 3ms/step - loss: 0.0314 - accuracy: 0.9916 - val_loss: 0.0503 - val_accuracy: 0.9835\n",
            "Epoch 12/20\n",
            "131/131 [==============================] - 0s 3ms/step - loss: 0.0285 - accuracy: 0.9926 - val_loss: 0.0489 - val_accuracy: 0.9835\n",
            "Epoch 13/20\n",
            "131/131 [==============================] - 0s 3ms/step - loss: 0.0264 - accuracy: 0.9931 - val_loss: 0.0489 - val_accuracy: 0.9842\n",
            "Epoch 14/20\n",
            "131/131 [==============================] - 0s 3ms/step - loss: 0.0249 - accuracy: 0.9935 - val_loss: 0.0485 - val_accuracy: 0.9835\n",
            "Epoch 15/20\n",
            "131/131 [==============================] - 1s 4ms/step - loss: 0.0229 - accuracy: 0.9935 - val_loss: 0.0482 - val_accuracy: 0.9842\n",
            "Epoch 16/20\n",
            "131/131 [==============================] - 0s 3ms/step - loss: 0.0209 - accuracy: 0.9940 - val_loss: 0.0495 - val_accuracy: 0.9835\n",
            "Epoch 17/20\n",
            "131/131 [==============================] - 0s 3ms/step - loss: 0.0199 - accuracy: 0.9943 - val_loss: 0.0486 - val_accuracy: 0.9835\n",
            "Epoch 18/20\n",
            "131/131 [==============================] - 0s 3ms/step - loss: 0.0184 - accuracy: 0.9947 - val_loss: 0.0485 - val_accuracy: 0.9849\n",
            "Epoch 19/20\n",
            "131/131 [==============================] - 0s 3ms/step - loss: 0.0173 - accuracy: 0.9950 - val_loss: 0.0491 - val_accuracy: 0.9835\n",
            "Epoch 20/20\n",
            "131/131 [==============================] - 0s 3ms/step - loss: 0.0161 - accuracy: 0.9952 - val_loss: 0.0493 - val_accuracy: 0.9835\n"
          ]
        }
      ],
      "source": [
        "# model\n",
        "\n",
        "model = keras.Sequential()\n",
        "model.add(tf.keras.layers.Embedding(popular_vocabulary_size, 8, input_length=max_len))\n",
        "model.add(tf.keras.layers.Flatten())\n",
        "model.add(tf.keras.layers.Dense(1, activation='sigmoid'))\n",
        "\n",
        "model.compile(optimizer='adam', loss='binary_crossentropy', metrics=['accuracy'])\n",
        "\n",
        "history = model.fit(padded_train, label_train, epochs=20, validation_data=(padded_valid, label_valid),callbacks =[keras.callbacks.EarlyStopping(monitor='val_accuracy', patience=5)])"
      ]
    },
    {
      "cell_type": "code",
      "source": [
        "# accuracy plot\n",
        "\n",
        "plt.plot(history.history['accuracy'])\n",
        "plt.plot(history.history['val_accuracy'])\n",
        "plt.ylabel('Accuracy')\n",
        "plt.xlabel('Epoch')\n",
        "plt.legend(['Training', 'Validation'])\n",
        "plt.show()"
      ],
      "metadata": {
        "id": "rdzmqyNlqAk9",
        "colab": {
          "base_uri": "https://localhost:8080/",
          "height": 280
        },
        "outputId": "1cd105c2-fb30-466f-fbe2-6009a137850c"
      },
      "execution_count": null,
      "outputs": [
        {
          "output_type": "display_data",
          "data": {
            "text/plain": [
              "<Figure size 432x288 with 1 Axes>"
            ],
            "image/png": "[encoded data removed]"
          },
          "metadata": {
            "needs_background": "light"
          }
        }
      ]
    },
    {
      "cell_type": "code",
      "execution_count": null,
      "metadata": {
        "id": "J9tD9yACG6M9",
        "colab": {
          "base_uri": "https://localhost:8080/"
        },
        "outputId": "0bbdb29b-ef6f-41ab-bd87-c7dd2693e510"
      },
      "outputs": [
        {
          "output_type": "stream",
          "name": "stdout",
          "text": [
            "1/1 [==============================] - 0s 73ms/step\n",
            "[0.5124448537826538, 'spam']\n"
          ]
        }
      ],
      "source": [
        "# function to predict messages based on model\n",
        "# (should return list containing prediction and label, ex. [0.008318834938108921, 'ham'])\n",
        "def predict_message(pred_text):\n",
        "    temp_sequence = tokenizer.texts_to_sequences([pred_text])\n",
        "    temp_sequence = pad_sequences(temp_sequence, maxlen=max_len)\n",
        "    prediction = model.predict(temp_sequence)[0].tolist()\n",
        "    prediction_txt = 'ham' if prediction[0] < 0.2 else 'spam'\n",
        "    prediction.append(prediction_txt)\n",
        "    return (prediction)\n",
        "\n",
        "pred_text = \"sale today! to stop texts call 98912460324\"\n",
        "\n",
        "prediction = predict_message(pred_text)\n",
        "print(prediction)"
      ]
    },
    {
      "cell_type": "code",
      "execution_count": null,
      "metadata": {
        "id": "Dxotov85SjsC",
        "colab": {
          "base_uri": "https://localhost:8080/"
        },
        "outputId": "133990d7-a7da-477b-9a1e-f15c430b3897"
      },
      "outputs": [
        {
          "output_type": "stream",
          "name": "stdout",
          "text": [
            "1/1 [==============================] - 0s 26ms/step\n",
            "1/1 [==============================] - 0s 24ms/step\n",
            "1/1 [==============================] - 0s 22ms/step\n",
            "1/1 [==============================] - 0s 21ms/step\n",
            "1/1 [==============================] - 0s 19ms/step\n",
            "1/1 [==============================] - 0s 20ms/step\n",
            "1/1 [==============================] - 0s 26ms/step\n",
            "You passed the challenge. Great job!\n"
          ]
        }
      ],
      "source": [
        "# Run this cell to test your function and model. Do not modify contents.\n",
        "def test_predictions():\n",
        "  test_messages = [\"how are you doing today\",\n",
        "                   \"sale today! to stop texts call 98912460324\",\n",
        "                   \"i dont want to go. can we try it a different day? available sat\",\n",
        "                   \"our new mobile video service is live. just install on your phone to start watching.\",\n",
        "                   \"you have won £1000 cash! call to claim your prize.\",\n",
        "                   \"i'll bring it tomorrow. don't forget the milk.\",\n",
        "                   \"wow, is your arm alright. that happened to me one time too\"\n",
        "                  ]\n",
        "\n",
        "  test_answers = [\"ham\", \"spam\", \"ham\", \"spam\", \"spam\", \"ham\", \"ham\"]\n",
        "  passed = True\n",
        "\n",
        "  for msg, ans in zip(test_messages, test_answers):\n",
        "    prediction = predict_message(msg)\n",
        "    if prediction[1] != ans:\n",
        "      passed = False\n",
        "\n",
        "  if passed:\n",
        "    print(\"You passed the challenge. Great job!\")\n",
        "  else:\n",
        "    print(\"You haven't passed yet. Keep trying.\")\n",
        "\n",
        "test_predictions()\n"
      ]
    }
  ],
  "metadata": {
    "colab": {
      "provenance": []
    },
    "kernelspec": {
      "display_name": "Python 3",
      "name": "python3"
    },
    "language_info": {},
    "gpuClass": "standard"
  },
  "nbformat": 4,
  "nbformat_minor": 0
}